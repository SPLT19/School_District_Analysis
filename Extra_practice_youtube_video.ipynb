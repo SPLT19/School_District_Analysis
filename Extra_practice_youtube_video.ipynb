{
 "cells": [
  {
   "cell_type": "code",
   "execution_count": null,
   "id": "6c93457b",
   "metadata": {},
   "outputs": [],
   "source": [
    "# Import needed dependency\n",
    "import pandas as pd\n",
    "\n",
    "# Loading files (Change the path if needed.)\n",
    "school_data_to_load = \"Resources/schools_complete.csv\"\n",
    "student_data_to_load = \"Resources/students_complete.csv\"\n"
   ]
  },
  {
   "cell_type": "code",
   "execution_count": null,
   "id": "2585100a",
   "metadata": {},
   "outputs": [],
   "source": [
    "# Read the School Data and Student Data and store into a Pandas DataFrame\n",
    "school_data_df = pd.read_csv(school_data_to_load)\n",
    "student_data_df = pd.read_csv(student_data_to_load)\n",
    "#Verify it loaded\n",
    "#print(school_data_df.head(3))\n",
    "#print(student_data_df.head(3))"
   ]
  },
  {
   "cell_type": "code",
   "execution_count": null,
   "id": "9888d2ef",
   "metadata": {},
   "outputs": [],
   "source": [
    "# Check data type\n",
    "school_data_df.dtypes\n",
    "student_data_df.dtypes"
   ]
  },
  {
   "cell_type": "code",
   "execution_count": null,
   "id": "455aa25c",
   "metadata": {},
   "outputs": [],
   "source": [
    "#Practice\n",
    "#Read data by columns\n",
    "#school_data_df.columns\n",
    "#print(school_data_df['school_name'][0:5])\n",
    "#print(school_data_df[['school_name', 'budget']])\n",
    "\n",
    "#iloc Read and print each row\n",
    "#print(school_data_df.iloc[0:5])\n",
    "#read specific location (Row, Column)\n",
    "#print(school_data_df.iloc[0,1])\n",
    "\n",
    "#loc finding specific data in the data set only rows containing certain parameter\n",
    "#school_data_df.loc[school_data_df[\"type\"] == \"District\"] \n",
    "\n",
    "#Iterate trhouh rows, throws al info of row per row\n",
    "#for index, row in school_data_df.iterrows():\n",
    "    #print(index, row)\n",
    "    \n",
    "#Iterate trhouh specific index from rows, throws the resired index info of row per row    \n",
    "#for index, row in school_data_df.iterrows():\n",
    "   # print(index, row['size'])\n",
    "    \n",
    "#describe : Get general statistics \n",
    "#school_data_df.describe()\n",
    "\n",
    "#sort databy name. ascending= false, makes  it from z to a\n",
    "#school_data_df.sort_values(\"school_name\")\n",
    "#school_data_df.sort_values(\"school_name\", ascending=False)\n",
    "#sort by 2 paramethers\n",
    "#school_data_df.sort_values([\"school_name\", \"size\"])\n",
    "\n",
    "#finding missing values counting all vs. finding null\n",
    "#student_data_df.count()\n",
    "#school_data_df.isnull().sum()\n",
    "\n",
    "#Modify data, add columns using data from df\n",
    "#school_data_df[\"reading_score\"] + [\"math_score\"]\n",
    "\n",
    "\n"
   ]
  }
 ],
 "metadata": {
  "kernelspec": {
   "display_name": "PythonData",
   "language": "python",
   "name": "pythondata"
  },
  "language_info": {
   "codemirror_mode": {
    "name": "ipython",
    "version": 3
   },
   "file_extension": ".py",
   "mimetype": "text/x-python",
   "name": "python",
   "nbconvert_exporter": "python",
   "pygments_lexer": "ipython3",
   "version": "3.9.7"
  }
 },
 "nbformat": 4,
 "nbformat_minor": 5
}
