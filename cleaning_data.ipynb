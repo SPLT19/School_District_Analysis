{
 "cells": [
  {
   "cell_type": "code",
   "execution_count": null,
   "id": "ecaf7027",
   "metadata": {},
   "outputs": [],
   "source": [
    "#Add Pandas dependency\n",
    "import pandas as pd"
   ]
  },
  {
   "cell_type": "code",
   "execution_count": null,
   "id": "825b460a",
   "metadata": {},
   "outputs": [],
   "source": [
    "# Files to load\n",
    "file_to_load = \"Resources/missing_grades.csv\"\n",
    "\n",
    "# Read the CSV into a DataFrame\n",
    "missing_grade_df = pd.read_csv(file_to_load)\n",
    "missing_grade_df"
   ]
  },
  {
   "cell_type": "code",
   "execution_count": null,
   "id": "726f127c",
   "metadata": {},
   "outputs": [],
   "source": [
    "#Drop Nans option (downside:when data of that row is needed)\n",
    "missing_grade_df.dropna ()"
   ]
  },
  {
   "cell_type": "code",
   "execution_count": null,
   "id": "602163cf",
   "metadata": {},
   "outputs": [],
   "source": [
    "# Fill empty rows with \"85\". Pass desired number inside parenthesis\n",
    "missing_grade_df.fillna(85)"
   ]
  },
  {
   "cell_type": "code",
   "execution_count": null,
   "id": "ccabd39a",
   "metadata": {},
   "outputs": [],
   "source": []
  },
  {
   "cell_type": "code",
   "execution_count": null,
   "id": "7f43c32b",
   "metadata": {},
   "outputs": [],
   "source": []
  }
 ],
 "metadata": {
  "kernelspec": {
   "display_name": "PythonData",
   "language": "python",
   "name": "pythondata"
  },
  "language_info": {
   "codemirror_mode": {
    "name": "ipython",
    "version": 3
   },
   "file_extension": ".py",
   "mimetype": "text/x-python",
   "name": "python",
   "nbconvert_exporter": "python",
   "pygments_lexer": "ipython3",
   "version": "3.9.7"
  }
 },
 "nbformat": 4,
 "nbformat_minor": 5
}
